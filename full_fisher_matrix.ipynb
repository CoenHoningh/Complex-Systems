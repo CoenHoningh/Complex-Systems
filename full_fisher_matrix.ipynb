{
 "cells": [
  {
   "cell_type": "code",
   "execution_count": 6,
   "metadata": {},
   "outputs": [],
   "source": [
    "import numpy as np\n",
    "# from tqdm import tqdm\n",
    "from tqdm import tqdm_notebook as tqdm\n",
    "import matplotlib.pyplot as plt\n",
    "import numba\n",
    "from numba import prange\n",
    "from time import perf_counter\n",
    "from scipy.ndimage import convolve, sobel\n",
    "from scipy import ndimage\n",
    "from scipy.special import xlogy\n",
    "from sklearn import preprocessing\n",
    "from scipy.stats import mode\n",
    "from scipy.stats import gaussian_kde\n",
    "from scipy.integrate import quad\n",
    "import seaborn as sns\n",
    "\n",
    "\n",
    "# import statistics as statss\n",
    "%matplotlib inline\n",
    "sns.set_style(\"ticks\")\n",
    "sns.set_context(\"poster\")\n"
   ]
  },
  {
   "cell_type": "code",
   "execution_count": 26,
   "metadata": {},
   "outputs": [],
   "source": [
    "s = [[1,1,1],\n",
    "     [1,1,1],\n",
    "     [1,1,1]]\n",
    "\n",
    "@numba.njit(fastmath=True, parallel=True)\n",
    "def gray_scott(U, V, Du, Dv, f, k, dt, dx, T):\n",
    "    n = U.shape[0]\n",
    "    iters = int(T / dt)\n",
    "    for i in range(iters):\n",
    "        Lu, Lv = Du*lap(U, n)/dx/dx, Dv*lap(V, n)/dx/dx\n",
    "        U, V = U + dt*(Lu - U*V*V + f * (1-U)), V + dt*(Lv + U*V*V - (f+k) * V)\n",
    "    return U, V\n",
    "\n",
    "def gscott(n, F, k, T, Du=0.16, Dv=0.08, dt=1.0, dx=1.0, seed=np.random.randint(10000)):\n",
    "    np.random.seed(seed=seed) ## re-initialize seed to keep same initial conditions at each parameter setting\n",
    "    U, V = np.zeros((n, n), dtype=np.float64), np.zeros((n, n), dtype=np.float64)\n",
    "    r, m = n//40, n//2\n",
    "    U[...] = 1.0\n",
    "    V[m-r:m+r, m-r:m+r] = 0.25\n",
    "    U[m-r:m+r, m-r:m+r] = 0.5\n",
    "    U += np.random.normal(scale=0.05, size=U.shape)\n",
    "    V += np.random.normal(scale=0.05, size=V.shape)\n",
    "    return gray_scott(U, V, Du, Dv, F, k, dt, dx, T)\n",
    "\n",
    "def calc_objects(inp):\n",
    "    fftding = np.fft.fft2(inp)\n",
    "    outp = ndimage.fourier_ellipsoid(fftding, 1.5)*10\n",
    "    outp = np.fft.ifft2(ndimage.fourier_gaussian(outp, 1.5)).real*10\n",
    "\n",
    "    binarized = np.clip(outp-((outp.min() + outp.max())/2), 0, 1)\n",
    "    labels = ndimage.label(binarized, structure=s)\n",
    "    if labels[1] > 2:\n",
    "        bins, edges = np.histogram(labels[0], bins=labels[1])\n",
    "        return bins[1:]\n",
    "\n",
    "    # Try inversed region\n",
    "    binarized = np.clip((outp-((outp.min() + outp.max())/2))*-1, 0, 1)\n",
    "    labels = ndimage.label(binarized, structure=s)\n",
    "    if labels[1] > 2:\n",
    "        bins, edges = np.histogram(labels[0], bins=labels[1])\n",
    "        return bins[1:]\n",
    "    \n",
    "    # No objects\n",
    "    return np.zeros(1)\n",
    "\n",
    "@numba.njit(parallel=True, fastmath=True)\n",
    "def lap(u, N):\n",
    "    uc = np.empty((N, N))\n",
    "    for x in numba.prange(1, N-1):\n",
    "        uc[x, 1:-1] = u[x+1, 1:-1] + u[x-1, 1:-1] + u[x, :-2] + u[x, 2:] - 4*u[x, 1:-1]\n",
    "\n",
    "    uc[1:-1, 0] = u[1:-1, 1] + u[:-2, 0] + u[2:, 0] + u[1:-1, -1] - 4*u[1:-1, 0]\n",
    "    uc[1:-1, -1] = u[1:-1, -2] + u[:-2, -1] + u[2:, -1] + u[1:-1, 0] - 4*u[1:-1, -1]\n",
    "    uc[0, 1:-1] = u[1, 1:-1] + u[0, 2:] + u[0, :-2] + u[-1, 1:-1] - 4*u[0, 1:-1]\n",
    "    uc[-1, 1:-1] = u[-2, 1:-1] + u[-1, 2:] + u[-1, :-2] + u[0, 1:-1] - 4*u[-1, 1:-1]\n",
    "\n",
    "    uc[0, 0] = u[0, 1] + u[0, -1] + u[1, 0] + u[-1, 0] - 4*u[0, 0]\n",
    "    uc[-1, 0] = u[0, 0] + u[-2, 0] + u[-1, -1] + u[-1, -2] - 4*u[-1, 0]\n",
    "    uc[0, -1] = u[0, 0] + u[0, -2] + u[-1, -1] + u[1, -1] - 4*u[0, -1]\n",
    "    uc[-1, -1] = u[0, -1] + u[-1, 0] + u[-1, -2] + u[-2, -1] - 4*u[-1, -1]\n",
    "    return uc"
   ]
  },
  {
   "cell_type": "code",
   "execution_count": 61,
   "metadata": {},
   "outputs": [
    {
     "data": {
      "application/vnd.jupyter.widget-view+json": {
       "model_id": "628f2dc29f044dd2a2acbbacab158e83",
       "version_major": 2,
       "version_minor": 0
      },
      "text/plain": [
       "HBox(children=(IntProgress(value=0, max=15), HTML(value='')))"
      ]
     },
     "metadata": {},
     "output_type": "display_data"
    },
    {
     "name": "stdout",
     "output_type": "stream",
     "text": [
      "\n"
     ]
    }
   ],
   "source": [
    "def gaus_hack(inp):\n",
    "    if inp[0] == 0:\n",
    "        return lambda x: 0\n",
    "    return gaussian_kde(inp)\n",
    "\n",
    "def fim(x, ind, pdfs, df, dk):\n",
    "    if np.all(ind): # (1, 1) index\n",
    "        vals = np.array([pdfs[0](x), pdfs[1](x), pdfs[2](x)])\n",
    "        if np.any(vals < 1e-8):\n",
    "            return 0.0\n",
    "        return vals[0] * (np.log(vals[1]) - np.log(vals[2]))**2 / (4.0 * dk * dk)\n",
    "    elif np.any(ind): # (1, 0) or (0, 1) index\n",
    "        vals = np.array([i(x) for i in pdfs])\n",
    "        if np.any(vals < 1e-8):\n",
    "            return 0.0\n",
    "        return vals[0] * (np.log(vals[1]) - np.log(vals[2]))\\\n",
    "               * (np.log(vals[3]) - np.log(vals[4])) / (4.0 * df * dk)\n",
    "    # (0, 0) index otherwise\n",
    "    vals = np.array([pdfs[0](x), pdfs[3](x), pdfs[4](x)])\n",
    "    if np.any(vals < 1e-8):\n",
    "        return 0.0\n",
    "    return vals[0] * (np.log(vals[1]) - np.log(vals[2]))**2 / (4.0 * df * df)\n",
    "    \n",
    "def fisher_matrix(inps, df, dk):\n",
    "    p = [gaus_hack(i) for i in inps]\n",
    "    FIM = np.zeros((2, 2))\n",
    "    for i in np.ndindex(2, 2):\n",
    "        FIM[i] = quad(fim, -np.inf, np.inf, args=(i, p, df, dk), limit=500)[0]\n",
    "    return FIM\n",
    "\n",
    "\n",
    "\n",
    "def bulk_fisher(f, k, df, dk, n=150, T=10000):\n",
    "    iters = len(f) * len(k)\n",
    "    \n",
    "    f, k = np.meshgrid(f, k)\n",
    "    outp = np.zeros((*f.shape, 2, 2))\n",
    "    for index, _f in tqdm(np.ndenumerate(f), total=iters):\n",
    "        u, v = gscott(n, _f, k[index], T)\n",
    "        u1,v1 = gscott(n, _f, k[index]+dk, T)\n",
    "        u2,v2 = gscott(n, _f, k[index]-dk, T)\n",
    "        u3,v3 = gscott(n, _f+df, k[index], T)\n",
    "        u4,v4 = gscott(n, _f-df, k[index], T)\n",
    "        \n",
    "        inputs = [calc_objects(x) for x in [u, u1, u2, u3, u4]]\n",
    "        outp[index] = fisher_matrix(inputs, df, dk)\n",
    "    return outp\n",
    "\n",
    "def bulk_fisher1d(f, k, df, dk, n=150, T=10000):\n",
    "    iters = len(f)\n",
    "    \n",
    "    outp = np.zeros((len(f), 2, 2))\n",
    "    for index, _f in tqdm(np.ndenumerate(f), total=iters):\n",
    "        u, v = gscott(n, _f, k[index], T)\n",
    "        u1,v1 = gscott(n, _f, k[index]+dk, T)\n",
    "        u2,v2 = gscott(n, _f, k[index]-dk, T)\n",
    "        u3,v3 = gscott(n, _f+df, k[index], T)\n",
    "        u4,v4 = gscott(n, _f-df, k[index], T)\n",
    "        \n",
    "        inputs = [calc_objects(x) for x in [u, u1, u2, u3, u4]]\n",
    "        outp[index] = fisher_matrix(inputs, df, dk)\n",
    "    return outp\n",
    "\n",
    "\n",
    "df = 0.0001\n",
    "dk = 0.0001\n",
    "\n",
    "f_min = 0.0238191\n",
    "f_max = 0.0271360\n",
    "k_min = 0.05869347\n",
    "k_max = 0.06141\n",
    "\n",
    "p1 = np.array([k_min, f_min])\n",
    "p2 = np.array([k_max, f_max])\n",
    "dr = (p2 - p1)/np.linalg.norm(p2 - p1)\n",
    "dtheta = np.vdot([dk, df], dr)\n",
    "\n",
    "dims = 15\n",
    "f = np.linspace(f_min,f_max,dims)\n",
    "k = np.linspace(k_min,k_max,dims)\n",
    "\n",
    "\n",
    "outp = bulk_fisher1d(f, k,dk,df)\n",
    "ds2 = [x[0,1]*dtheta*dtheta for x in outp]\n",
    "# plt.figure(figsize=(15,15))\n",
    "# plt.imshow(np.log10(outp.T), cmap='jet', origin='lower', extent=(k_min,k_max,f_min,f_max), aspect = np.abs((k_max-k_min)/(f_max-f_min)))\n",
    "# plt.xlabel(\"k\")\n",
    "# plt.ylabel(\"F\")\n",
    "# plt.title(\"Fisher information (10log)\")\n",
    "# plt.colorbar()\n",
    "# print(outp.T)\n",
    "# plt.show()"
   ]
  },
  {
   "cell_type": "code",
   "execution_count": 57,
   "metadata": {
    "scrolled": false
   },
   "outputs": [],
   "source": [
    "ds2 = [x[0,1]*dtheta*dtheta for x in outp]"
   ]
  },
  {
   "cell_type": "code",
   "execution_count": 62,
   "metadata": {},
   "outputs": [
    {
     "data": {
      "text/plain": [
       "[<matplotlib.lines.Line2D at 0x7fcc981acf98>]"
      ]
     },
     "execution_count": 62,
     "metadata": {},
     "output_type": "execute_result"
    },
    {
     "data": {
      "image/png": "[encoded data removed]",
      "text/plain": [
       "<Figure size 432x288 with 1 Axes>"
      ]
     },
     "metadata": {},
     "output_type": "display_data"
    }
   ],
   "source": [
    "plt.plot(ds2)"
   ]
  },
  {
   "cell_type": "code",
   "execution_count": 64,
   "metadata": {
    "scrolled": true
   },
   "outputs": [
    {
     "name": "stdout",
     "output_type": "stream",
     "text": [
      "[-0.5460706008228706, -0.2831941148442574, 7.346725916257038e-05, -0.007058117135215759, -0.014332719829774196, 0.274947351499436, 0.004939437209145058, 1.333997183624122, 0.4099892658721144, -0.1159013839653152, 0.01048048975289352, 0.031138397542730574, -0.023436163093455843, 0.14126363046804055, 0.03754969806688871]\n"
     ]
    }
   ],
   "source": [
    "print(ds2)"
   ]
  },
  {
   "cell_type": "code",
   "execution_count": 32,
   "metadata": {},
   "outputs": [],
   "source": [
    "traceding = np.zeros((5, 5))"
   ]
  },
  {
   "cell_type": "code",
   "execution_count": 42,
   "metadata": {},
   "outputs": [
    {
     "data": {
      "text/plain": [
       "array([0.024  , 0.02425, 0.0245 , 0.02475, 0.025  ])"
      ]
     },
     "execution_count": 42,
     "metadata": {},
     "output_type": "execute_result"
    }
   ],
   "source": [
    "f"
   ]
  },
  {
   "cell_type": "code",
   "execution_count": 44,
   "metadata": {},
   "outputs": [
    {
     "name": "stdout",
     "output_type": "stream",
     "text": [
      "(0,)  0.024\n",
      "(1,)  0.02425\n",
      "(2,)  0.0245\n",
      "(3,)  0.02475\n",
      "(4,)  0.025\n"
     ]
    }
   ],
   "source": [
    "for i, _f in np.ndenumerate(f):\n",
    "    print(f\"{i}  {_f}\")"
   ]
  },
  {
   "cell_type": "code",
   "execution_count": 47,
   "metadata": {},
   "outputs": [
    {
     "data": {
      "text/plain": [
       "5"
      ]
     },
     "execution_count": 47,
     "metadata": {},
     "output_type": "execute_result"
    }
   ],
   "source": [
    "f.shape[0]"
   ]
  },
  {
   "cell_type": "code",
   "execution_count": 49,
   "metadata": {},
   "outputs": [
    {
     "data": {
      "text/plain": [
       "0.02425"
      ]
     },
     "execution_count": 49,
     "metadata": {},
     "output_type": "execute_result"
    }
   ],
   "source": [
    "f[(1,)]"
   ]
  },
  {
   "cell_type": "code",
   "execution_count": null,
   "metadata": {},
   "outputs": [],
   "source": []
  }
 ],
 "metadata": {
  "kernelspec": {
   "display_name": "Python 3",
   "language": "python",
   "name": "python3"
  },
  "language_info": {
   "codemirror_mode": {
    "name": "ipython",
    "version": 3
   },
   "file_extension": ".py",
   "mimetype": "text/x-python",
   "name": "python",
   "nbconvert_exporter": "python",
   "pygments_lexer": "ipython3",
   "version": "3.7.3"
  }
 },
 "nbformat": 4,
 "nbformat_minor": 2
}
