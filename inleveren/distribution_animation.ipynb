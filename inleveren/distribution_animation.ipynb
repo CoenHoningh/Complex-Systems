{
 "cells": [
  {
   "cell_type": "markdown",
   "metadata": {},
   "source": [
    "# Notebook for making animation of the distributions while changing parameters"
   ]
  },
  {
   "cell_type": "code",
   "execution_count": 1,
   "metadata": {},
   "outputs": [],
   "source": [
    "import numpy as np\n",
    "# from tqdm import tqdm\n",
    "from tqdm import tqdm_notebook as tqdm\n",
    "import matplotlib.pyplot as plt\n",
    "import numba\n",
    "from numba import prange\n",
    "from time import perf_counter\n",
    "from scipy.ndimage import convolve, sobel\n",
    "from scipy import ndimage\n",
    "from scipy.special import xlogy\n",
    "from sklearn import preprocessing\n",
    "from scipy.stats import mode\n",
    "from scipy.stats import gaussian_kde\n",
    "from scipy.integrate import quad\n",
    "import seaborn as sns\n",
    "from IPython import display\n",
    "import time\n",
    "from matplotlib.animation import FuncAnimation\n",
    "\n",
    "# import statistics as statss\n",
    "%matplotlib inline\n",
    "sns.set_style(\"ticks\")\n",
    "sns.set_context(\"poster\")\n",
    "\n",
    "def timer(method):\n",
    "    def timed(*args, **kw):\n",
    "        ts = perf_counter()\n",
    "        result = method(*args, **kw)\n",
    "        te = perf_counter()\n",
    "        tlapsed = te-ts\n",
    "        print(f\"{tlapsed//60} mins and {tlapsed%60:0.2f} secs\")\n",
    "        return result\n",
    "    return timed"
   ]
  },
  {
   "cell_type": "markdown",
   "metadata": {},
   "source": [
    "Functions for simulating the Gray-Scott model:"
   ]
  },
  {
   "cell_type": "code",
   "execution_count": 2,
   "metadata": {},
   "outputs": [],
   "source": [
    "s = [[1,1,1],\n",
    "     [1,1,1],\n",
    "     [1,1,1]]\n",
    "\n",
    "@numba.njit(fastmath=True, parallel=True)\n",
    "def gray_scott(U, V, Du, Dv, f, k, dt, dx, T):\n",
    "    \"\"\"\n",
    "    Integrates the gray-scott system over time using the given initial\n",
    "    conditions.\n",
    "    \"\"\"\n",
    "    n = U.shape[0]\n",
    "    iters = int(T / dt)\n",
    "    for i in range(iters):\n",
    "        Lu, Lv = Du*lap(U, n)/dx/dx, Dv*lap(V, n)/dx/dx\n",
    "        U, V = U + dt*(Lu - U*V*V + f * (1-U)), V + dt*(Lv + U*V*V - (f+k) * V)\n",
    "    return U, V\n",
    "\n",
    "def gscott(n, F, k, T, Du=0.16, Dv=0.08, dt=1.0, dx=1.0, seed=5000000):\n",
    "    \"\"\"\n",
    "    Wrapper function that initializes the U and V concentration arrays and the\n",
    "    random number generator.\n",
    "        \n",
    "        n: dimensions of the discretized system\n",
    "        F: value of F used for the model\n",
    "        k: value of k used for the model\n",
    "        T: number of time steps simulated\n",
    "    \n",
    "    \"\"\"\n",
    "    np.random.seed(seed=seed)\n",
    "    U, V = np.zeros((n, n), dtype=np.float64), np.zeros((n, n), dtype=np.float64)\n",
    "    r, m = n//40, n//2\n",
    "    U[...] = 1.0\n",
    "    V[m-r:m+r, m-r:m+r] = 0.25\n",
    "    U[m-r:m+r, m-r:m+r] = 0.5\n",
    "    U += np.random.normal(scale=0.05, size=U.shape)\n",
    "    V += np.random.normal(scale=0.05, size=V.shape)\n",
    "    return gray_scott(U, V, Du, Dv, F, k, dt, dx, T)\n",
    "\n",
    "def calc_objects(inp):\n",
    "    \"\"\"\n",
    "    Calculates the number and size of objects in a given array.\n",
    "    \n",
    "    An array is returned with the size of each object, the length of the \n",
    "    array thus being the number of objects. A [0] array is returned if\n",
    "    no objects are found.\n",
    "    \"\"\"\n",
    "    fftding = np.fft.fft2(inp)\n",
    "    outp = ndimage.fourier_ellipsoid(fftding, 1.1)*100\n",
    "    outp = np.fft.ifft2(ndimage.fourier_gaussian(outp, 1.01)).real*10\n",
    "\n",
    "    binarized1 = np.clip(outp-((outp.min() + outp.max())/2), 0, 1)\n",
    "    labels1 = ndimage.label(binarized1, structure=s)\n",
    "    binarized2 = np.clip((outp-((outp.min() + outp.max())/2))*-1, 0, 1)\n",
    "    labels2 = ndimage.label(binarized2, structure=s)\n",
    "    if labels1[1] > labels2[1]:\n",
    "        bins, edges = np.histogram(labels1[0], bins=labels1[1])\n",
    "        return bins[1:]\n",
    "\n",
    "    # Try inversed region\n",
    "    if labels2[1] > 1:\n",
    "        bins, edges = np.histogram(labels2[0], bins=labels2[1])\n",
    "        return bins[1:]\n",
    "    \n",
    "    # No objects\n",
    "    return np.zeros(1)\n",
    "\n",
    "@numba.njit(parallel=True, fastmath=True)\n",
    "def lap(u, N):\n",
    "    \"\"\"\n",
    "    Parallel implementation of the laplacian operator with periodic boundary conditions.\n",
    "    \"\"\"\n",
    "    uc = np.empty((N, N))\n",
    "    for x in numba.prange(1, N-1):\n",
    "        uc[x, 1:-1] = u[x+1, 1:-1] + u[x-1, 1:-1] + u[x, :-2] + u[x, 2:] - 4*u[x, 1:-1]\n",
    "\n",
    "    uc[1:-1, 0] = u[1:-1, 1] + u[:-2, 0] + u[2:, 0] + u[1:-1, -1] - 4*u[1:-1, 0]\n",
    "    uc[1:-1, -1] = u[1:-1, -2] + u[:-2, -1] + u[2:, -1] + u[1:-1, 0] - 4*u[1:-1, -1]\n",
    "    uc[0, 1:-1] = u[1, 1:-1] + u[0, 2:] + u[0, :-2] + u[-1, 1:-1] - 4*u[0, 1:-1]\n",
    "    uc[-1, 1:-1] = u[-2, 1:-1] + u[-1, 2:] + u[-1, :-2] + u[0, 1:-1] - 4*u[-1, 1:-1]\n",
    "\n",
    "    uc[0, 0] = u[0, 1] + u[0, -1] + u[1, 0] + u[-1, 0] - 4*u[0, 0]\n",
    "    uc[-1, 0] = u[0, 0] + u[-2, 0] + u[-1, -1] + u[-1, -2] - 4*u[-1, 0]\n",
    "    uc[0, -1] = u[0, 0] + u[0, -2] + u[-1, -1] + u[1, -1] - 4*u[0, -1]\n",
    "    uc[-1, -1] = u[0, -1] + u[-1, 0] + u[-1, -2] + u[-2, -1] - 4*u[-1, -1]\n",
    "    return uc"
   ]
  },
  {
   "cell_type": "markdown",
   "metadata": {},
   "source": [
    "## Code for animation\n",
    "\n",
    "The following functions are used for making the animation:"
   ]
  },
  {
   "cell_type": "code",
   "execution_count": 7,
   "metadata": {},
   "outputs": [],
   "source": [
    "def bulk_gaussian(f, k, n=150, T=10000):\n",
    "    \"\"\"\n",
    "    Runs the Gray-Scott model simulation for each parameter setting returning a\n",
    "    list of all object lists resulted from the simulations.\n",
    "    \"\"\"\n",
    "    kdes = [None for j in range(len(f))]\n",
    "    positions = np.linspace(0, 200, 1000)\n",
    "    for index in tqdm(range(len(f))):\n",
    "        u, v = gscott(n, f[index], k[index], T)\n",
    "        obj_u = calc_objects(u)\n",
    "        kdes[index] = obj_u\n",
    "    return kdes\n",
    "\n",
    "def animate_pdf(f, k, n=200, T=20000):\n",
    "    \"\"\"\n",
    "    For each parameter setting, the distribution of component sizes is plotted.\n",
    "    The figures are saved which can be used to make a animation.\n",
    "    \"\"\"\n",
    "    pdfs = bulk_gaussian(f, k, n, T) \n",
    "    for i in range(len(pdfs)):\n",
    "        fig, ax1 = plt.subplots()  \n",
    "        plt.title(\"{}\".format(i))\n",
    "        sns.distplot(pdfs[i], ax=ax1)\n",
    "        ax1.set_xlim(left=0)\n",
    "        ax1.set_ylim(0, 0.25)\n",
    "        fig.savefig(\"Pics/pdfs/{}\".format(i))\n",
    "        plt.close()"
   ]
  },
  {
   "cell_type": "markdown",
   "metadata": {},
   "source": [
    "Setting the parameter ranges and starting the simulation:"
   ]
  },
  {
   "cell_type": "code",
   "execution_count": 8,
   "metadata": {
    "scrolled": false
   },
   "outputs": [
    {
     "data": {
      "application/vnd.jupyter.widget-view+json": {
       "model_id": "71e759f03aff409d8d119359e2f8cb1a",
       "version_major": 2,
       "version_minor": 0
      },
      "text/plain": [
       "HBox(children=(IntProgress(value=0, max=30), HTML(value='')))"
      ]
     },
     "metadata": {},
     "output_type": "display_data"
    },
    {
     "name": "stdout",
     "output_type": "stream",
     "text": [
      "\n"
     ]
    }
   ],
   "source": [
    "# These are the parameter changes when changing from stable dots to chaotic dots:\n",
    "# f = np.linspace(0.0238191, 0.0271360, 30)\n",
    "# k = np.linspace(0.05869347, 0.06141, 30)\n",
    "\n",
    "# These are the parameter changes when changing from stable dots to snake patterns:\n",
    "f = np.linspace(0.0395, 0.0428, 30)\n",
    "k = np.linspace(0.0652, 0.0632, 30)\n",
    "\n",
    "kdes = animate_pdf(f, k)"
   ]
  }
 ],
 "metadata": {
  "kernelspec": {
   "display_name": "Python 3",
   "language": "python",
   "name": "python3"
  },
  "language_info": {
   "codemirror_mode": {
    "name": "ipython",
    "version": 3
   },
   "file_extension": ".py",
   "mimetype": "text/x-python",
   "name": "python",
   "nbconvert_exporter": "python",
   "pygments_lexer": "ipython3",
   "version": "3.7.3"
  }
 },
 "nbformat": 4,
 "nbformat_minor": 2
}
